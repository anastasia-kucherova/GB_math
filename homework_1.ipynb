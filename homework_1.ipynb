{
 "cells": [
  {
   "cell_type": "markdown",
   "metadata": {},
   "source": [
    "### Даны три множества a,b и с. Необходимо выполнить все изученные виды бинарных операций над всеми комбинациями множеств"
   ]
  },
  {
   "cell_type": "code",
   "execution_count": 1,
   "metadata": {},
   "outputs": [],
   "source": [
    "A = {1, 3, 5, 6}\n",
    "B = {1, 2, 4, 6}\n",
    "C = {3, 4, 7}"
   ]
  },
  {
   "cell_type": "code",
   "execution_count": 2,
   "metadata": {},
   "outputs": [
    {
     "name": "stdout",
     "output_type": "stream",
     "text": [
      " A U B = {1, 2, 3, 4, 5, 6}\n",
      " A U C = {1, 3, 4, 5, 6, 7}\n",
      " B U C = {1, 2, 3, 4, 6, 7}\n"
     ]
    }
   ],
   "source": [
    "print(f' A U B = {A.union(B)}')\n",
    "print(f' A U C = {A.union(C)}')\n",
    "print(f' B U C = {B.union(C)}')"
   ]
  },
  {
   "cell_type": "code",
   "execution_count": 3,
   "metadata": {
    "scrolled": true
   },
   "outputs": [
    {
     "name": "stdout",
     "output_type": "stream",
     "text": [
      " A ∩ B = {1, 6}\n",
      " A ∩ C = {3}\n",
      " B ∩ C = {4}\n"
     ]
    }
   ],
   "source": [
    "print(f' A \\u2229 B = {A.intersection(B)}')\n",
    "print(f' A \\u2229 C = {A.intersection(C)}')\n",
    "print(f' B \\u2229 C = {B.intersection(C)}')"
   ]
  },
  {
   "cell_type": "code",
   "execution_count": 4,
   "metadata": {},
   "outputs": [
    {
     "name": "stdout",
     "output_type": "stream",
     "text": [
      " A \\ B = {3, 5}\n",
      " B \\ A = {2, 4}\n",
      " A \\ C = {1, 5, 6}\n",
      " C \\ A = {4, 7}\n",
      " B \\ C = {1, 2, 6}\n",
      " C \\ B = {3, 7}\n"
     ]
    }
   ],
   "source": [
    "print(f' A \\ B = {A.difference(B)}')\n",
    "print(f' B \\ A = {B.difference(A)}')\n",
    "print(f' A \\ C = {A.difference(C)}')\n",
    "print(f' C \\ A = {C.difference(A)}')\n",
    "print(f' B \\ C = {B.difference(C)}')\n",
    "print(f' C \\ B = {C.difference(B)}')"
   ]
  },
  {
   "cell_type": "code",
   "execution_count": 5,
   "metadata": {},
   "outputs": [
    {
     "name": "stdout",
     "output_type": "stream",
     "text": [
      " A Δ B = {2, 3, 4, 5}\n",
      " A Δ C = {1, 4, 5, 6, 7}\n",
      " B Δ C = {1, 2, 3, 6, 7}\n"
     ]
    }
   ],
   "source": [
    "print(f' A \\u0394 B = {A.symmetric_difference(B)}')\n",
    "print(f' A \\u0394 C = {A.symmetric_difference(C)}')\n",
    "print(f' B \\u0394 C = {B.symmetric_difference(C)}')"
   ]
  }
 ],
 "metadata": {
  "kernelspec": {
   "display_name": "Python 3",
   "language": "python",
   "name": "python3"
  },
  "language_info": {
   "codemirror_mode": {
    "name": "ipython",
    "version": 3
   },
   "file_extension": ".py",
   "mimetype": "text/x-python",
   "name": "python",
   "nbconvert_exporter": "python",
   "pygments_lexer": "ipython3",
   "version": "3.7.6"
  }
 },
 "nbformat": 4,
 "nbformat_minor": 4
}
